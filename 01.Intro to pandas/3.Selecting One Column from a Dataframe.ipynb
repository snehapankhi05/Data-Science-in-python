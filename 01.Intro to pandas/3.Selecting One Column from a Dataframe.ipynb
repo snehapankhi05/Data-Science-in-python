{
 "cells": [
  {
   "cell_type": "code",
   "execution_count": 1,
   "id": "9347c382-3353-471d-a09c-e6b4952bf353",
   "metadata": {},
   "outputs": [],
   "source": [
    "import pandas as pd\n"
   ]
  },
  {
   "cell_type": "code",
   "execution_count": null,
   "id": "4cdd0962-14bb-44a0-ba94-2cf04a9ec067",
   "metadata": {},
   "outputs": [],
   "source": [
    "#reading the csv file\n",
    "df_exams=pd.read_csv('50_Startups.csv')\n",
    "df_exams"
   ]
  },
  {
   "cell_type": "markdown",
   "id": "2a35d661-3ae0-42ac-9326-df8d05aa10a1",
   "metadata": {},
   "source": [
    "# Selecting one column"
   ]
  },
  {
   "cell_type": "markdown",
   "id": "11941648-e1e0-4489-aa88-de547d1cc879",
   "metadata": {},
   "source": [
    "## 1.1 Syantax 1"
   ]
  },
  {
   "cell_type": "code",
   "execution_count": 13,
   "id": "02c872ec-5ec6-4a67-b799-afdb31d489bd",
   "metadata": {},
   "outputs": [
    {
     "data": {
      "text/plain": [
       "0       New York\n",
       "1     California\n",
       "2        Florida\n",
       "3       New York\n",
       "4        Florida\n",
       "5       New York\n",
       "6     California\n",
       "7        Florida\n",
       "8       New York\n",
       "9     California\n",
       "10       Florida\n",
       "11    California\n",
       "12       Florida\n",
       "13    California\n",
       "14       Florida\n",
       "15      New York\n",
       "16    California\n",
       "17      New York\n",
       "18       Florida\n",
       "19      New York\n",
       "20    California\n",
       "21      New York\n",
       "22       Florida\n",
       "23       Florida\n",
       "24      New York\n",
       "25    California\n",
       "26       Florida\n",
       "27      New York\n",
       "28       Florida\n",
       "29      New York\n",
       "30       Florida\n",
       "31      New York\n",
       "32    California\n",
       "33       Florida\n",
       "34    California\n",
       "35      New York\n",
       "36       Florida\n",
       "37    California\n",
       "38      New York\n",
       "39    California\n",
       "40    California\n",
       "41       Florida\n",
       "42    California\n",
       "43      New York\n",
       "44    California\n",
       "45      New York\n",
       "46       Florida\n",
       "47    California\n",
       "48      New York\n",
       "49    California\n",
       "Name: State, dtype: object"
      ]
     },
     "execution_count": 13,
     "metadata": {},
     "output_type": "execute_result"
    }
   ],
   "source": [
    "# select a column with [] (preferred way to select a column)\n",
    "df_exams['State']"
   ]
  },
  {
   "cell_type": "code",
   "execution_count": 14,
   "id": "16822ae1-3c97-4620-988f-8dfff8858b5f",
   "metadata": {},
   "outputs": [
    {
     "data": {
      "text/plain": [
       "pandas.core.series.Series"
      ]
     },
     "execution_count": 14,
     "metadata": {},
     "output_type": "execute_result"
    }
   ],
   "source": [
    "# check out the data type of a column\n",
    "type(df_exams['State'])"
   ]
  },
  {
   "cell_type": "code",
   "execution_count": 15,
   "id": "da34b352-4784-4372-8288-2d7be7b0896a",
   "metadata": {},
   "outputs": [
    {
     "data": {
      "text/plain": [
       "RangeIndex(start=0, stop=50, step=1)"
      ]
     },
     "execution_count": 15,
     "metadata": {},
     "output_type": "execute_result"
    }
   ],
   "source": [
    "# series: attributes and methods\n",
    "df_exams['State'].index"
   ]
  },
  {
   "cell_type": "code",
   "execution_count": 16,
   "id": "383e0bd7-3d81-472c-af7f-696f86cc8cab",
   "metadata": {},
   "outputs": [
    {
     "data": {
      "text/plain": [
       "0      New York\n",
       "1    California\n",
       "2       Florida\n",
       "3      New York\n",
       "4       Florida\n",
       "Name: State, dtype: object"
      ]
     },
     "execution_count": 16,
     "metadata": {},
     "output_type": "execute_result"
    }
   ],
   "source": [
    "# to get 5 columns of given\n",
    "df_exams['State'].head()"
   ]
  },
  {
   "cell_type": "markdown",
   "id": "0399f2e3-9970-4dff-aa0b-9a7807e89650",
   "metadata": {},
   "source": [
    "## 1.2 Syntax 2"
   ]
  },
  {
   "cell_type": "code",
   "execution_count": 19,
   "id": "09ec437f-62c3-4ea0-a298-b760859a40b1",
   "metadata": {},
   "outputs": [
    {
     "data": {
      "text/plain": [
       "0       New York\n",
       "1     California\n",
       "2        Florida\n",
       "3       New York\n",
       "4        Florida\n",
       "5       New York\n",
       "6     California\n",
       "7        Florida\n",
       "8       New York\n",
       "9     California\n",
       "10       Florida\n",
       "11    California\n",
       "12       Florida\n",
       "13    California\n",
       "14       Florida\n",
       "15      New York\n",
       "16    California\n",
       "17      New York\n",
       "18       Florida\n",
       "19      New York\n",
       "20    California\n",
       "21      New York\n",
       "22       Florida\n",
       "23       Florida\n",
       "24      New York\n",
       "25    California\n",
       "26       Florida\n",
       "27      New York\n",
       "28       Florida\n",
       "29      New York\n",
       "30       Florida\n",
       "31      New York\n",
       "32    California\n",
       "33       Florida\n",
       "34    California\n",
       "35      New York\n",
       "36       Florida\n",
       "37    California\n",
       "38      New York\n",
       "39    California\n",
       "40    California\n",
       "41       Florida\n",
       "42    California\n",
       "43      New York\n",
       "44    California\n",
       "45      New York\n",
       "46       Florida\n",
       "47    California\n",
       "48      New York\n",
       "49    California\n",
       "Name: State, dtype: object"
      ]
     },
     "execution_count": 19,
     "metadata": {},
     "output_type": "execute_result"
    }
   ],
   "source": [
    "# select a column with .\n",
    "df_exams.State"
   ]
  },
  {
   "cell_type": "code",
   "execution_count": 21,
   "id": "69b07ea7-9d58-4917-b17a-4f19fa44a877",
   "metadata": {},
   "outputs": [
    {
     "ename": "SyntaxError",
     "evalue": "invalid syntax (807347893.py, line 2)",
     "output_type": "error",
     "traceback": [
      "\u001b[1;36m  Cell \u001b[1;32mIn[21], line 2\u001b[1;36m\u001b[0m\n\u001b[1;33m    df_exams.R&D Spend\u001b[0m\n\u001b[1;37m                 ^\u001b[0m\n\u001b[1;31mSyntaxError\u001b[0m\u001b[1;31m:\u001b[0m invalid syntax\n"
     ]
    }
   ],
   "source": [
    "# select a column with .(pitfalls)\n",
    "df_exams.R&D Spend"
   ]
  },
  {
   "cell_type": "code",
   "execution_count": 23,
   "id": "a6d96064-ace0-4668-a3e4-46bf0a2ec631",
   "metadata": {},
   "outputs": [
    {
     "data": {
      "text/plain": [
       "0     165349.20\n",
       "1     162597.70\n",
       "2     153441.51\n",
       "3     144372.41\n",
       "4     142107.34\n",
       "5     131876.90\n",
       "6     134615.46\n",
       "7     130298.13\n",
       "8     120542.52\n",
       "9     123334.88\n",
       "10    101913.08\n",
       "11    100671.96\n",
       "12     93863.75\n",
       "13     91992.39\n",
       "14    119943.24\n",
       "15    114523.61\n",
       "16     78013.11\n",
       "17     94657.16\n",
       "18     91749.16\n",
       "19     86419.70\n",
       "20     76253.86\n",
       "21     78389.47\n",
       "22     73994.56\n",
       "23     67532.53\n",
       "24     77044.01\n",
       "25     64664.71\n",
       "26     75328.87\n",
       "27     72107.60\n",
       "28     66051.52\n",
       "29     65605.48\n",
       "30     61994.48\n",
       "31     61136.38\n",
       "32     63408.86\n",
       "33     55493.95\n",
       "34     46426.07\n",
       "35     46014.02\n",
       "36     28663.76\n",
       "37     44069.95\n",
       "38     20229.59\n",
       "39     38558.51\n",
       "40     28754.33\n",
       "41     27892.92\n",
       "42     23640.93\n",
       "43     15505.73\n",
       "44     22177.74\n",
       "45      1000.23\n",
       "46      1315.46\n",
       "47         0.00\n",
       "48       542.05\n",
       "49         0.00\n",
       "Name: R&D Spend, dtype: float64"
      ]
     },
     "execution_count": 23,
     "metadata": {},
     "output_type": "execute_result"
    }
   ],
   "source": [
    "# select the same column using []\n",
    "df_exams['R&D Spend']"
   ]
  },
  {
   "cell_type": "code",
   "execution_count": null,
   "id": "8bb0dcbc-7ffa-4f5d-a335-6eb18875932d",
   "metadata": {},
   "outputs": [],
   "source": []
  }
 ],
 "metadata": {
  "kernelspec": {
   "display_name": "Python 3 (ipykernel)",
   "language": "python",
   "name": "python3"
  },
  "language_info": {
   "codemirror_mode": {
    "name": "ipython",
    "version": 3
   },
   "file_extension": ".py",
   "mimetype": "text/x-python",
   "name": "python",
   "nbconvert_exporter": "python",
   "pygments_lexer": "ipython3",
   "version": "3.13.5"
  }
 },
 "nbformat": 4,
 "nbformat_minor": 5
}
